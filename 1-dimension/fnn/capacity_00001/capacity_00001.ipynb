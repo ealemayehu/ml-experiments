{
 "cells": [
  {
   "cell_type": "code",
   "execution_count": 2,
   "id": "60614416-8bb6-449f-9355-96415b398fbc",
   "metadata": {},
   "outputs": [],
   "source": [
    "%run __init__.py"
   ]
  },
  {
   "cell_type": "code",
   "execution_count": 3,
   "id": "7d6a92e6",
   "metadata": {},
   "outputs": [],
   "source": [
    "import torch\n",
    "import common.dim1 as dim1"
   ]
  },
  {
   "cell_type": "code",
   "execution_count": 4,
   "id": "0dd87374",
   "metadata": {},
   "outputs": [
    {
     "name": "stdout",
     "output_type": "stream",
     "text": [
      "Epoch   100 | loss_train=0.59554 | loss_validation=2.16813361\n"
     ]
    }
   ],
   "source": [
    "x = torch.arange(-20, 20, 0.1)\n",
    "y = lambda x : x * x\n",
    "\n",
    "fc = dim1.FnnConfig(\n",
    "    x = x,\n",
    "    y = y(x),\n",
    "    learning_rate = 1e-2,\n",
    "    epochs = 100,\n",
    "    batch_size = 10,\n",
    "    seed = 10,\n",
    "    layer_dimensions = [(1, 10),(10, 1)],\n",
    "    animation_filename=\"1layer10unit.gif\"\n",
    ")\n",
    "\n",
    "tr = dim1.train_fnn(fc)"
   ]
  },
  {
   "cell_type": "code",
   "execution_count": 5,
   "id": "4eff6589",
   "metadata": {},
   "outputs": [
    {
     "name": "stdout",
     "output_type": "stream",
     "text": [
      "Animating frame 100/100\n"
     ]
    }
   ],
   "source": [
    "dim1.plot_train_results(tr, fc)"
   ]
  },
  {
   "cell_type": "markdown",
   "id": "22b786fa",
   "metadata": {},
   "source": [
    "![Animated plots](1layer10unit.gif)"
   ]
  },
  {
   "cell_type": "code",
   "execution_count": null,
   "id": "aada8eb1",
   "metadata": {},
   "outputs": [],
   "source": []
  }
 ],
 "metadata": {
  "kernelspec": {
   "display_name": "conda_pytorch_p310",
   "language": "python",
   "name": "conda_pytorch_p310"
  },
  "language_info": {
   "codemirror_mode": {
    "name": "ipython",
    "version": 3
   },
   "file_extension": ".py",
   "mimetype": "text/x-python",
   "name": "python",
   "nbconvert_exporter": "python",
   "pygments_lexer": "ipython3",
   "version": "3.10.14"
  }
 },
 "nbformat": 4,
 "nbformat_minor": 5
}
