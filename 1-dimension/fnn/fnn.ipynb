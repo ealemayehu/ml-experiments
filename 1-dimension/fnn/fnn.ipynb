{
 "cells": [
  {
   "cell_type": "code",
   "execution_count": null,
   "id": "4b222de8-d4e0-440f-b9cb-50fac05494a5",
   "metadata": {},
   "outputs": [],
   "source": [
    "!pip3 install torch torchvision\n",
    "!pip3 install ipympl ipywidgets"
   ]
  },
  {
   "cell_type": "code",
   "execution_count": 1,
   "id": "be7a43a3-4318-4d3e-bbb3-bbf414065129",
   "metadata": {},
   "outputs": [],
   "source": [
    "import math\n",
    "import torch\n",
    "import torch.nn as nn\n",
    "import torch.nn.functional as functional\n",
    "import matplotlib.pyplot as plt\n",
    "import matplotlib.animation as animation\n",
    "import IPython\n",
    "\n",
    "from torch.utils.data import TensorDataset, DataLoader\n",
    "from IPython.display import Image, display, HTML"
   ]
  },
  {
   "cell_type": "markdown",
   "id": "82088a70-7234-4162-bb81-d852a1dd552d",
   "metadata": {},
   "source": [
    "Experiment configuration."
   ]
  },
  {
   "cell_type": "code",
   "execution_count": 2,
   "id": "edb48b84-f07b-4986-9638-81c38e66ecf1",
   "metadata": {},
   "outputs": [],
   "source": [
    "# Mathematical function to approximate.\n",
    "def f(x):\n",
    "    return torch.sin(x)\n",
    "\n",
    "# Training data parameters.\n",
    "x_min = -20\n",
    "x_max = 20\n",
    "x_increment = 0.1 # For visualization\n",
    "train_count = 1024\n",
    "seed = torch.Generator().manual_seed(10)\n",
    "learning_rate = 1e-3\n",
    "epochs= 200\n",
    "batch_size = 10\n",
    "optimizer_f = torch.optim.Adam\n",
    "\n",
    "# The dimensions of each layer\n",
    "layer_dimensions = [(1, 15),(15, 15),(15, 15),(15, 1)]\n",
    "\n",
    "# Loss function\n",
    "loss_f = nn.MSELoss()\n",
    "\n",
    "# Device (cpu or gpu)\n",
    "device = \"cpu\""
   ]
  },
  {
   "cell_type": "markdown",
   "id": "0ab3dd15-c8f3-4469-bc23-a429fbfe17b4",
   "metadata": {},
   "source": [
    "A fully connected neural network (FNN) that approximates the given mathematical function for the given input range."
   ]
  },
  {
   "cell_type": "code",
   "execution_count": 3,
   "id": "f3148fc3-f858-4aac-808d-eaa6bda1430e",
   "metadata": {},
   "outputs": [],
   "source": [
    "class FNN(nn.Module):\n",
    "    def __init__(self):\n",
    "        super(FNN, self).__init__()\n",
    "\n",
    "        self.layers = nn.ModuleList()\n",
    "\n",
    "        for i in range(0, len(layer_dimensions)):\n",
    "            in_dim = layer_dimensions[i][0]\n",
    "            out_dim = layer_dimensions[i][1]\n",
    "            self.layers.append(nn.Linear(in_dim, out_dim))\n",
    "\n",
    "    def forward(self, x):\n",
    "        for i in range(0, len(self.layers)):\n",
    "            layer = self.layers[i]\n",
    "\n",
    "            if i == len(self.layers) - 1:\n",
    "                # Last layer does not use an activation function\n",
    "                x = layer(x)\n",
    "            else:\n",
    "                x = functional.relu(layer(x))\n",
    "\n",
    "        return x"
   ]
  },
  {
   "cell_type": "markdown",
   "id": "9db3b799-bd59-42e0-98c5-8c8ee1fe9f4b",
   "metadata": {},
   "source": [
    "The training procedure."
   ]
  },
  {
   "cell_type": "code",
   "execution_count": 4,
   "id": "68a0cf20-9a40-4616-9f66-1641d21fb848",
   "metadata": {},
   "outputs": [
    {
     "name": "stdout",
     "output_type": "stream",
     "text": [
      "Epoch   200 | loss_train=0.00014 | loss_validation=0.00014\n"
     ]
    }
   ],
   "source": [
    "model = FNN()\n",
    "model.to(device)\n",
    "\n",
    "x_train = (x_max - x_min) * torch.rand(train_count, 1, generator=seed) + x_min\n",
    "x_validation = (x_max - x_min) * torch.rand(train_count, 1, generator=seed) + x_min\n",
    "x_test = torch.arange(x_min, x_max, x_increment).unsqueeze(1)\n",
    "\n",
    "y_train = f(x_train)\n",
    "y_validation = f(x_validation)\n",
    "\n",
    "x_train = x_train.to(device)\n",
    "y_train = y_train.to(device)\n",
    "\n",
    "dataset_train = TensorDataset(x_train, y_train)\n",
    "train_loader = DataLoader(dataset_train, batch_size=batch_size)\n",
    "\n",
    "optimizer = optimizer_f(model.parameters(), lr=learning_rate)\n",
    "\n",
    "training_losses = []\n",
    "validation_losses = []\n",
    "y_predicted_test = []\n",
    "\n",
    "for epoch in range(1, epochs + 1):\n",
    "    model.train()\n",
    "\n",
    "    for x_batch, y_batch in train_loader:\n",
    "        x_batch = x_batch.to(device)\n",
    "        y_batch = y_batch.to(device)\n",
    "        loss_train = loss_f(model(x_batch), y_batch)\n",
    "        optimizer.zero_grad()\n",
    "        loss_train.backward()\n",
    "        optimizer.step()\n",
    "\n",
    "    model.eval()\n",
    "\n",
    "    with torch.no_grad():\n",
    "        loss_train = loss_f(model(x_train), y_train).detach().cpu().item() / x_train.shape[0];\n",
    "        training_losses.append(loss_train)\n",
    "\n",
    "        loss_validation = loss_f(model(x_validation), y_validation).detach().cpu().item() / x_validation.shape[0];\n",
    "        validation_losses.append(loss_validation)\n",
    "\n",
    "        y_epoch_predicted_test = model(x_test)\n",
    "        y_predicted_test.append(y_epoch_predicted_test)\n",
    "\n",
    "    if epoch != 0:\n",
    "        print(\"\\r\", end=\"\")\n",
    "\n",
    "    print(f\"Epoch {epoch:5d} | loss_train={loss_train:.5f} | loss_validation={loss_validation:.5f}\", end=\"\")\n",
    "\n",
    "print(\"\")\n",
    "\n",
    "y_actual_test = f(x_test).tolist()\n",
    "x_test = x_test.tolist()\n",
    "epoch_list = list(range(0, epochs))\n",
    "\n",
    "fig, axs = plt.subplots(nrows=2, ncols=1, figsize=(6, 12))\n",
    "\n",
    "axs[0].set_title(\"Actual vs Predicted Animation\")\n",
    "axs[0].set_xlabel(\"x\")\n",
    "axs[0].set_ylabel(\"y\")\n",
    "actual_plot, = axs[0].plot(x_test, y_actual_test, 'b-', label=\"Actual\")\n",
    "predicted_plot, = axs[0].plot([], [], 'r-', label=\"Predicition\")\n",
    "axs[0].legend()\n",
    "\n",
    "axs[1].set_title(\"Learning Curve Animation\")\n",
    "axs[1].set_xlabel(\"Epoch\")\n",
    "axs[1].set_ylabel(\"Loss\")\n",
    "axs[1].set_xlim([0, epochs])\n",
    "axs[1].set_ylim([0, max([max(training_losses), max(validation_losses)])])\n",
    "\n",
    "\n",
    "training_loss_plot, = axs[1].plot([], [], 'b-', label=\"Training\")\n",
    "validation_loss_plot, = axs[1].plot([], [], 'r-', label=\"Validation\")\n",
    "axs[1].legend()\n",
    "\n",
    "def update_actual_predicted(index):\n",
    "    predicted_plot.set_data(x_test, y_predicted_test[index].tolist())\n",
    "    training_loss_plot.set_data(epoch_list[0:index], training_losses[0:index])\n",
    "    validation_loss_plot.set_data(epoch_list[0:index], validation_losses[0:index])\n",
    "\n",
    "    return (actual_plot, predicted_plot, training_loss_plot, validation_loss_plot)\n",
    "\n",
    "anim = animation.FuncAnimation(fig=fig, func=update_actual_predicted, frames=epochs, interval=20)\n",
    "anim.save('animation.gif', writer='pillow', fps=10)\n",
    "\n",
    "plt.close(fig)"
   ]
  },
  {
   "cell_type": "markdown",
   "id": "8ed52825-b1ec-4b62-8eca-359b4ec733cb",
   "metadata": {},
   "source": [
    "![Animation](animation.gif)"
   ]
  },
  {
   "cell_type": "code",
   "execution_count": null,
   "id": "a5afa112-f211-4559-a1f1-5fa66c91e284",
   "metadata": {},
   "outputs": [],
   "source": []
  },
  {
   "cell_type": "code",
   "execution_count": null,
   "id": "77da656a-cca9-48d0-aae1-52ce9a715372",
   "metadata": {},
   "outputs": [],
   "source": []
  }
 ],
 "metadata": {
  "kernelspec": {
   "display_name": "conda_tensorflow2_p310",
   "language": "python",
   "name": "conda_tensorflow2_p310"
  },
  "language_info": {
   "codemirror_mode": {
    "name": "ipython",
    "version": 3
   },
   "file_extension": ".py",
   "mimetype": "text/x-python",
   "name": "python",
   "nbconvert_exporter": "python",
   "pygments_lexer": "ipython3",
   "version": "3.10.18"
  }
 },
 "nbformat": 4,
 "nbformat_minor": 5
}
